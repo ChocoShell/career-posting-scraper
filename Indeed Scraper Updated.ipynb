{
 "cells": [
  {
   "cell_type": "markdown",
   "metadata": {},
   "source": [
    "Trying to update the Webscraping Indeed Notebook to Python 3"
   ]
  },
  {
   "cell_type": "code",
   "execution_count": 1,
   "metadata": {},
   "outputs": [],
   "source": [
    "%load_ext autoreload\n",
    "%autoreload 2"
   ]
  },
  {
   "cell_type": "code",
   "execution_count": 14,
   "metadata": {},
   "outputs": [],
   "source": [
    "# API Calls\n",
    "import requests\n",
    "# Parse HTML\n",
    "import bs4\n",
    "# Handle Dataframes (excel data)\n",
    "import pandas as pd\n",
    "pd.set_option('display.max_colwidth', -1)\n",
    "# Plotting library\n",
    "import matplotlib.pyplot as plt\n",
    "# Math functions lib\n",
    "import numpy as np"
   ]
  },
  {
   "cell_type": "markdown",
   "metadata": {},
   "source": [
    "## Fetching and Cleaning Indeed Search Data"
   ]
  },
  {
   "cell_type": "code",
   "execution_count": 3,
   "metadata": {},
   "outputs": [],
   "source": [
    "from indeed_scraper import search_indeed, clean_data, save_data, posting_scraper\n",
    "from utils import save_data"
   ]
  },
  {
   "cell_type": "code",
   "execution_count": 4,
   "metadata": {},
   "outputs": [
    {
     "name": "stdout",
     "output_type": "stream",
     "text": [
      "./indeed_searches/machine+learning-2018_11_28-000756\n"
     ]
    }
   ],
   "source": [
    "# Fetch Page Information for Indeed Search\n",
    "# TODO: Add url encoding so you don't have to do it manually here.\n",
    "query = \"machine+learning\"\n",
    "cities = [\n",
    "    \"New+York%2C+NY\",\n",
    "    \"San+Jose%2C+CA\",\n",
    "    \"Austin%2C+TX\",\n",
    "    \"San+Francisco%2C+CA\",\n",
    "    \"Phoenix%2C+AZ\",\n",
    "    \"Greenwich%2C+CT\"\n",
    "]\n",
    "max_results_per_city = 100\n",
    "null_value = \"NA\"\n",
    "\n",
    "df = search_indeed(query, cities, max_results_per_city, null_value)\n",
    "df = clean_data(df)\n",
    "filename = save_data(df, query, path='./indeed_searches/')\n",
    "print(filename)"
   ]
  },
  {
   "cell_type": "markdown",
   "metadata": {},
   "source": [
    "## Getting Data Per Posting Page (WIP)"
   ]
  },
  {
   "cell_type": "code",
   "execution_count": 5,
   "metadata": {},
   "outputs": [],
   "source": [
    "# Getting one posting worth of data\n",
    "# url = data.loc[:, 'url'].values[88]\n",
    "# print(url)\n",
    "# html = requests.get(url).text\n",
    "# soups = bs4.BeautifulSoup(html, \"html.parser\")\n",
    "# # Print out job description as one srting\n",
    "# main_content = soups.find('div', {'class': \"jobsearch-JobComponent icl-u-xs-mt--sm jobsearch-JobComponent-bottomDivider\"})\n",
    "# job_description = soups.find('div', {'class': \"jobsearch-JobComponent-description icl-u-xs-mt--md\"})\n",
    "# ' '.join([x.get_text(strip=True) for x in job_description.find_all('li')])"
   ]
  },
  {
   "cell_type": "code",
   "execution_count": 6,
   "metadata": {},
   "outputs": [],
   "source": [
    "## Getting Data Per Posting Page (WIP)\n",
    "data = pd.read_csv(f\"{filename}.csv\", index_col=0)\n",
    "desc_dataframe = posting_scraper(data, filename, drop_old_postings=True, li_search=False)\n",
    "data['desc'] = desc_dataframe['desc']\n",
    "data.dropna(subset = ['desc'], inplace=True)\n",
    "data.reset_index(drop=True, inplace=True)\n",
    "data.to_csv(f'{filename}.csv', sep=',', encoding='utf-8')"
   ]
  },
  {
   "cell_type": "markdown",
   "metadata": {},
   "source": [
    "## Count Vectorizer on File\n",
    "Seeing most popular words in job posting."
   ]
  },
  {
   "cell_type": "code",
   "execution_count": 7,
   "metadata": {},
   "outputs": [],
   "source": [
    "# filename = \"machine+learning-2018_11_24-185749\"\n",
    "job_info = pd.read_csv(f'{filename}.csv', index_col=0)"
   ]
  },
  {
   "cell_type": "code",
   "execution_count": 8,
   "metadata": {},
   "outputs": [],
   "source": [
    "descriptions = []\n",
    "for txtfile in job_info['desc']:\n",
    "    with open(txtfile, 'r', encoding='utf-8') as the_file:\n",
    "        descriptions.append(the_file.read().lower())"
   ]
  },
  {
   "cell_type": "code",
   "execution_count": 9,
   "metadata": {},
   "outputs": [],
   "source": [
    "%autoreload 2\n",
    "from sklearn.feature_extraction.text import CountVectorizer\n",
    "from sklearn.feature_extraction.text import ENGLISH_STOP_WORDS\n",
    "from more_stop_words import more_stop_words\n",
    "custom_stop_words = ENGLISH_STOP_WORDS.union(more_stop_words)"
   ]
  },
  {
   "cell_type": "code",
   "execution_count": 10,
   "metadata": {},
   "outputs": [],
   "source": [
    "# print(descriptions)\n",
    "vectorizer = CountVectorizer(stop_words=custom_stop_words)\n",
    "X = vectorizer.fit_transform(descriptions)\n",
    "\n",
    "# Summing words along columns to find total amount of occurences per word.\n",
    "feature_names = vectorizer.get_feature_names()\n",
    "sum_words = X.sum(axis=0).tolist()[0]\n",
    "words_freq = zip(feature_names, sum_words)\n",
    "words_freq =sorted(words_freq, key = lambda x: -x[1])"
   ]
  },
  {
   "cell_type": "code",
   "execution_count": 11,
   "metadata": {},
   "outputs": [
    {
     "name": "stdout",
     "output_type": "stream",
     "text": [
      "[('time', 259), ('python', 256), ('deep', 254), ('analytics', 250), ('ai', 185), ('processing', 174), ('ml', 128), ('big', 124), ('natural', 120), ('training', 120), ('education', 118), ('statistical', 108), ('statistics', 106), ('artificial', 105), ('java', 104), ('advanced', 101), ('modeling', 98), ('sales', 98), ('sql', 98), ('platforms', 94)]\n"
     ]
    }
   ],
   "source": [
    "# final_map = [word for word in words_freq if word[1] > 0]\n",
    "print(words_freq[:20])\n",
    "# final_map[:50]"
   ]
  },
  {
   "cell_type": "markdown",
   "metadata": {},
   "source": [
    "## TD-IDF Transformer and Clustering"
   ]
  },
  {
   "cell_type": "code",
   "execution_count": 12,
   "metadata": {},
   "outputs": [
    {
     "data": {
      "text/plain": [
       "16"
      ]
     },
     "execution_count": 12,
     "metadata": {},
     "output_type": "execute_result"
    }
   ],
   "source": [
    "from sklearn.feature_extraction.text import TfidfTransformer\n",
    "transformer = TfidfTransformer()\n",
    "X_tf = transformer.fit_transform(X)\n",
    "# print(X_tf.todense())\n",
    "X_tf.shape[0]//18"
   ]
  },
  {
   "cell_type": "code",
   "execution_count": 21,
   "metadata": {},
   "outputs": [
    {
     "name": "stdout",
     "output_type": "stream",
     "text": [
      "Cluster 0-10:\t insurance property analytics shipwell riskmatch planet cardinal cannopy lemonade buildinglink\n",
      "Cluster 1-20:\t training honor analytics time boarding consultant consistently facilitation unity sessions\n",
      "Cluster 2-46:\t natural processing artificial ca ai storage youtube speech recognition deep\n",
      "Cluster 3-43:\t sales frameworks ml python analytics tensorflow network deep big york\n",
      "Cluster 4-20:\t health sensors lidar sensor robotics time studies driving autonomous statistical\n",
      "Cluster 5-35:\t aws python applied cross ml statistics spark statistical scientists optimization\n",
      "Cluster 6-22:\t security bank emergent education financial bachelor plans yield analytics agile\n",
      "Cluster 7-34:\t amd inference ai ml nlp deep cognitivescale model takes gpu\n",
      "Cluster 8-36:\t apple education additional deep internship analytics python intern summer analytic\n",
      "Cluster 9-14:\t computational clinical disease w2o genetic paige gene cancer genetics seq\n",
      "Cluster 10-6:\t claims insurance car metromile auto mile outgoing pay package believe\n",
      "Cluster 11-6:\t shipping equipment logistics fulfillment ct stronglink workday scripting receiving trading\n"
     ]
    }
   ],
   "source": [
    "from sklearn.cluster import KMeans\n",
    "from scipy.spatial.distance import cdist\n",
    "\n",
    "clusters = 12\n",
    "# Using 8 buckets, should use differnt amount.\n",
    "km = KMeans(n_clusters=clusters, init='k-means++', max_iter=100, n_init=1)\n",
    "km.fit(X_tf)\n",
    "\n",
    "# # k means determine k\n",
    "# import time\n",
    "# # 100-150 -> .70-.58\n",
    "# distortions = []\n",
    "# K = range(1, X_tf.shape[0])\n",
    "# for k in K:\n",
    "#     start = time.time()\n",
    "#     X_tf_arr = X_tf.toarray()\n",
    "#     kmeanModel = KMeans(n_clusters=k, init='k-means++', max_iter=100)\n",
    "#     kmeanModel.fit(X_tf_arr)\n",
    "#     distortions.append(sum(np.min(cdist(X_tf_arr, kmeanModel.cluster_centers_, 'euclidean'), axis=1)) / X_tf_arr.shape[0])\n",
    "#     end = time.time()\n",
    "#     print(k, end - start)\n",
    "# # Plot the elbow\n",
    "# plt.plot(K, distortions, 'bx-')\n",
    "# plt.xlabel('k')\n",
    "# plt.ylabel('Distortion')\n",
    "# plt.title('The Elbow Method showing the optimal k')\n",
    "# plt.show()\n",
    "order_centroids = km.cluster_centers_.argsort()[:, ::-1]\n",
    "terms = feature_names\n",
    "for i in range(len(order_centroids)):\n",
    "    print(f\"Cluster {i}-{np.where(km.labels_ == i)[0].shape[0]}:\\t\" , end='')\n",
    "    for ind in order_centroids[i, :10]:\n",
    "        print(' %s' % terms[ind], end='')\n",
    "    print()"
   ]
  },
  {
   "cell_type": "code",
   "execution_count": 26,
   "metadata": {},
   "outputs": [
    {
     "data": {
      "text/html": [
       "<div>\n",
       "<style scoped>\n",
       "    .dataframe tbody tr th:only-of-type {\n",
       "        vertical-align: middle;\n",
       "    }\n",
       "\n",
       "    .dataframe tbody tr th {\n",
       "        vertical-align: top;\n",
       "    }\n",
       "\n",
       "    .dataframe thead th {\n",
       "        text-align: right;\n",
       "    }\n",
       "</style>\n",
       "<table border=\"1\" class=\"dataframe\">\n",
       "  <thead>\n",
       "    <tr style=\"text-align: right;\">\n",
       "      <th></th>\n",
       "      <th>company</th>\n",
       "      <th>job_title</th>\n",
       "      <th>url</th>\n",
       "      <th>location</th>\n",
       "    </tr>\n",
       "  </thead>\n",
       "  <tbody>\n",
       "    <tr>\n",
       "      <th>15</th>\n",
       "      <td>PulsePoint</td>\n",
       "      <td>Machine Learning Engineer</td>\n",
       "      <td>https://www.indeed.com/viewjob?jk=14a06809196dc969</td>\n",
       "      <td>New+York%2C+NY</td>\n",
       "    </tr>\n",
       "    <tr>\n",
       "      <th>17</th>\n",
       "      <td>Pager</td>\n",
       "      <td>Machine Learning Engineer</td>\n",
       "      <td>https://www.indeed.com/viewjob?jk=fe8f13c8ac5e059f</td>\n",
       "      <td>New+York%2C+NY</td>\n",
       "    </tr>\n",
       "    <tr>\n",
       "      <th>38</th>\n",
       "      <td>Vettery</td>\n",
       "      <td>Talent Executive</td>\n",
       "      <td>https://www.indeed.com/viewjob?jk=589ae69563cca553</td>\n",
       "      <td>New+York%2C+NY</td>\n",
       "    </tr>\n",
       "    <tr>\n",
       "      <th>53</th>\n",
       "      <td>Apple</td>\n",
       "      <td>Biomedical Data Scientist - Health Technologies</td>\n",
       "      <td>https://www.indeed.com/viewjob?jk=af96206c6d3a082c</td>\n",
       "      <td>San+Jose%2C+CA</td>\n",
       "    </tr>\n",
       "    <tr>\n",
       "      <th>62</th>\n",
       "      <td>Apple</td>\n",
       "      <td>Data Scientist</td>\n",
       "      <td>https://www.indeed.com/viewjob?jk=3203ff51d400bfe3</td>\n",
       "      <td>San+Jose%2C+CA</td>\n",
       "    </tr>\n",
       "    <tr>\n",
       "      <th>66</th>\n",
       "      <td>Waymo</td>\n",
       "      <td>Intern, Research, Computer Vision &amp; Machine Learning</td>\n",
       "      <td>https://www.indeed.com/viewjob?jk=2fe05bf0913ccb7b</td>\n",
       "      <td>San+Jose%2C+CA</td>\n",
       "    </tr>\n",
       "    <tr>\n",
       "      <th>75</th>\n",
       "      <td>Akorbi</td>\n",
       "      <td>Machine Learning Research Engineer</td>\n",
       "      <td>https://www.indeed.com/viewjob?jk=868728e276170c4e</td>\n",
       "      <td>San+Jose%2C+CA</td>\n",
       "    </tr>\n",
       "    <tr>\n",
       "      <th>88</th>\n",
       "      <td>JP Morgan Chase</td>\n",
       "      <td>Asset &amp; Wealth Management – Intelligent Digital Solutions –...</td>\n",
       "      <td>https://www.indeed.com/viewjob?jk=1cf88d4f366c8b59</td>\n",
       "      <td>San+Jose%2C+CA</td>\n",
       "    </tr>\n",
       "    <tr>\n",
       "      <th>92</th>\n",
       "      <td>Innovusion, Inc.</td>\n",
       "      <td>Machine Learning Software Engineer</td>\n",
       "      <td>https://www.indeed.com/viewjob?jk=6350d3773a2c4fd9</td>\n",
       "      <td>San+Jose%2C+CA</td>\n",
       "    </tr>\n",
       "    <tr>\n",
       "      <th>130</th>\n",
       "      <td>Code Pilot</td>\n",
       "      <td>Data Scientist</td>\n",
       "      <td>https://www.indeed.com/viewjob?jk=d96cbc155bf91032</td>\n",
       "      <td>Austin%2C+TX</td>\n",
       "    </tr>\n",
       "    <tr>\n",
       "      <th>164</th>\n",
       "      <td>ShapeScale</td>\n",
       "      <td>3D Machine Learning Engineer</td>\n",
       "      <td>https://www.indeed.com/viewjob?jk=076903b2de14c2fa</td>\n",
       "      <td>San Francisco, CA</td>\n",
       "    </tr>\n",
       "    <tr>\n",
       "      <th>226</th>\n",
       "      <td>Radius AI</td>\n",
       "      <td>Data Science Engineering</td>\n",
       "      <td>https://www.indeed.com/viewjob?jk=f8c2f46d4db910f8</td>\n",
       "      <td>Phoenix%2C+AZ</td>\n",
       "    </tr>\n",
       "    <tr>\n",
       "      <th>232</th>\n",
       "      <td>Terros Health</td>\n",
       "      <td>BI Healthcare Developer</td>\n",
       "      <td>https://www.indeed.com/viewjob?jk=5c0d94198bd738a8</td>\n",
       "      <td>Phoenix%2C+AZ</td>\n",
       "    </tr>\n",
       "    <tr>\n",
       "      <th>246</th>\n",
       "      <td>Dignity Health System Office</td>\n",
       "      <td>RN Scientist</td>\n",
       "      <td>https://www.indeed.com/viewjob?jk=876f842410afbeaa</td>\n",
       "      <td>Phoenix%2C+AZ</td>\n",
       "    </tr>\n",
       "    <tr>\n",
       "      <th>250</th>\n",
       "      <td>AgJunction</td>\n",
       "      <td>Engineer, Software (Summer Intern)</td>\n",
       "      <td>https://www.indeed.com/viewjob?jk=57e592c6a803aa86</td>\n",
       "      <td>Phoenix%2C+AZ</td>\n",
       "    </tr>\n",
       "    <tr>\n",
       "      <th>253</th>\n",
       "      <td>Altpoint Cipher</td>\n",
       "      <td>Quantitative Researcher</td>\n",
       "      <td>https://www.indeed.com/viewjob?jk=2c0a2ff16500e90a</td>\n",
       "      <td>Greenwich%2C+CT</td>\n",
       "    </tr>\n",
       "    <tr>\n",
       "      <th>256</th>\n",
       "      <td>kapil.s@progressivestaffing.net</td>\n",
       "      <td>Data Scientist</td>\n",
       "      <td>https://www.indeed.com/viewjob?jk=798a975b23f2d3ad</td>\n",
       "      <td>Greenwich%2C+CT</td>\n",
       "    </tr>\n",
       "    <tr>\n",
       "      <th>276</th>\n",
       "      <td>ULC Robotics, Inc.</td>\n",
       "      <td>Geospatial Analyst</td>\n",
       "      <td>https://www.indeed.com/viewjob?jk=58a49626ee6ad944</td>\n",
       "      <td>Greenwich%2C+CT</td>\n",
       "    </tr>\n",
       "    <tr>\n",
       "      <th>279</th>\n",
       "      <td>ULC Robotics, Inc.</td>\n",
       "      <td>UAV Project Coordinator</td>\n",
       "      <td>https://www.indeed.com/viewjob?jk=9ec127f9e3b54b77</td>\n",
       "      <td>Greenwich%2C+CT</td>\n",
       "    </tr>\n",
       "    <tr>\n",
       "      <th>284</th>\n",
       "      <td>New York Power Authority</td>\n",
       "      <td>Temporary Co-Op Research &amp; Technology Development (Power Sys...</td>\n",
       "      <td>https://www.indeed.com/viewjob?jk=0796e8d7866b4128</td>\n",
       "      <td>Greenwich%2C+CT</td>\n",
       "    </tr>\n",
       "  </tbody>\n",
       "</table>\n",
       "</div>"
      ],
      "text/plain": [
       "                                     company  \\\n",
       "15           PulsePoint                        \n",
       "17           Pager                             \n",
       "38           Vettery                           \n",
       "53           Apple                             \n",
       "62           Apple                             \n",
       "66           Waymo                             \n",
       "75           Akorbi                            \n",
       "88           JP Morgan Chase                   \n",
       "92           Innovusion, Inc.                  \n",
       "130          Code Pilot                        \n",
       "164          ShapeScale                        \n",
       "226          Radius AI                         \n",
       "232          Terros Health                     \n",
       "246          Dignity Health System Office      \n",
       "250          AgJunction                        \n",
       "253          Altpoint Cipher                   \n",
       "256          kapil.s@progressivestaffing.net   \n",
       "276          ULC Robotics, Inc.                \n",
       "279          ULC Robotics, Inc.                \n",
       "284          New York Power Authority          \n",
       "\n",
       "                                                           job_title  \\\n",
       "15   Machine Learning Engineer                                         \n",
       "17   Machine Learning Engineer                                         \n",
       "38   Talent Executive                                                  \n",
       "53   Biomedical Data Scientist - Health Technologies                   \n",
       "62   Data Scientist                                                    \n",
       "66   Intern, Research, Computer Vision & Machine Learning              \n",
       "75   Machine Learning Research Engineer                                \n",
       "88   Asset & Wealth Management – Intelligent Digital Solutions –...    \n",
       "92   Machine Learning Software Engineer                                \n",
       "130  Data Scientist                                                    \n",
       "164  3D Machine Learning Engineer                                      \n",
       "226  Data Science Engineering                                          \n",
       "232  BI Healthcare Developer                                           \n",
       "246  RN Scientist                                                      \n",
       "250  Engineer, Software (Summer Intern)                                \n",
       "253  Quantitative Researcher                                           \n",
       "256  Data Scientist                                                    \n",
       "276  Geospatial Analyst                                                \n",
       "279  UAV Project Coordinator                                           \n",
       "284  Temporary Co-Op Research & Technology Development (Power Sys...   \n",
       "\n",
       "                                                    url           location  \n",
       "15   https://www.indeed.com/viewjob?jk=14a06809196dc969  New+York%2C+NY     \n",
       "17   https://www.indeed.com/viewjob?jk=fe8f13c8ac5e059f  New+York%2C+NY     \n",
       "38   https://www.indeed.com/viewjob?jk=589ae69563cca553  New+York%2C+NY     \n",
       "53   https://www.indeed.com/viewjob?jk=af96206c6d3a082c  San+Jose%2C+CA     \n",
       "62   https://www.indeed.com/viewjob?jk=3203ff51d400bfe3  San+Jose%2C+CA     \n",
       "66   https://www.indeed.com/viewjob?jk=2fe05bf0913ccb7b  San+Jose%2C+CA     \n",
       "75   https://www.indeed.com/viewjob?jk=868728e276170c4e  San+Jose%2C+CA     \n",
       "88   https://www.indeed.com/viewjob?jk=1cf88d4f366c8b59  San+Jose%2C+CA     \n",
       "92   https://www.indeed.com/viewjob?jk=6350d3773a2c4fd9  San+Jose%2C+CA     \n",
       "130  https://www.indeed.com/viewjob?jk=d96cbc155bf91032  Austin%2C+TX       \n",
       "164  https://www.indeed.com/viewjob?jk=076903b2de14c2fa  San Francisco, CA  \n",
       "226  https://www.indeed.com/viewjob?jk=f8c2f46d4db910f8  Phoenix%2C+AZ      \n",
       "232  https://www.indeed.com/viewjob?jk=5c0d94198bd738a8  Phoenix%2C+AZ      \n",
       "246  https://www.indeed.com/viewjob?jk=876f842410afbeaa  Phoenix%2C+AZ      \n",
       "250  https://www.indeed.com/viewjob?jk=57e592c6a803aa86  Phoenix%2C+AZ      \n",
       "253  https://www.indeed.com/viewjob?jk=2c0a2ff16500e90a  Greenwich%2C+CT    \n",
       "256  https://www.indeed.com/viewjob?jk=798a975b23f2d3ad  Greenwich%2C+CT    \n",
       "276  https://www.indeed.com/viewjob?jk=58a49626ee6ad944  Greenwich%2C+CT    \n",
       "279  https://www.indeed.com/viewjob?jk=9ec127f9e3b54b77  Greenwich%2C+CT    \n",
       "284  https://www.indeed.com/viewjob?jk=0796e8d7866b4128  Greenwich%2C+CT    "
      ]
     },
     "execution_count": 26,
     "metadata": {},
     "output_type": "execute_result"
    }
   ],
   "source": [
    "def cluster_index(values, search_val):\n",
    "     return np.where(values == search_val)[0]\n",
    "filtered_data = data.loc[ cluster_index(km.labels_, 4), ['company', 'job_title', 'url', 'location']]\n",
    "# filtered_data = filtered_data[filtered_data['location'].str.contains('New|CT')]\n",
    "# filtered_data.to_csv('data_engineering.csv', sep=',', encoding='utf-8')\n",
    "filtered_data\n",
    "\n",
    "# for i in range(len(order_centroids)):\n",
    "#     filtered_data = data.loc[ cluster_index(km.labels_, i), ['company', 'job_title', 'url', 'location']]\n",
    "#     filtered_data['company'] = filtered_data['company'].str.strip()\n",
    "#     filtered_data.to_csv(f'{filename}/cluster_{i}_k_20.csv', sep=',', encoding='utf-8', index=False)\n",
    "\n"
   ]
  },
  {
   "cell_type": "markdown",
   "metadata": {},
   "source": [
    "Next Steps are to sort these words into categories (job, technologies, companies)"
   ]
  },
  {
   "cell_type": "markdown",
   "metadata": {},
   "source": [
    "# Word2Vec"
   ]
  },
  {
   "cell_type": "code",
   "execution_count": 46,
   "metadata": {},
   "outputs": [],
   "source": [
    "# !powershell -command \"&{sudo pip3 install nltk}\"\n",
    "from gensim.models import word2vec\n",
    "from nltk import word_tokenize\n",
    "\n",
    "# TODO: Remove Stop Words Manually\n",
    "# TODO: Preprocess Strings with Gensim\n",
    "# we need to pass splitted sentences to the model\n",
    "tokenized_sentences = [word_tokenize(sentence) for sentence in descriptions]\n",
    "\n",
    "model = word2vec.Word2Vec(tokenized_sentences, min_count=1)"
   ]
  },
  {
   "cell_type": "code",
   "execution_count": 57,
   "metadata": {},
   "outputs": [
    {
     "name": "stderr",
     "output_type": "stream",
     "text": [
      "C:\\Program Files (x86)\\Microsoft Visual Studio\\Shared\\Python36_64\\lib\\site-packages\\gensim\\matutils.py:737: FutureWarning: Conversion of the second argument of issubdtype from `int` to `np.signedinteger` is deprecated. In future, it will be treated as `np.int32 == np.dtype(int).type`.\n",
      "  if np.issubdtype(vec.dtype, np.int):\n"
     ]
    },
    {
     "data": {
      "text/plain": [
       "[('libraries', 0.99693363904953),\n",
       " ('deploying', 0.9954078793525696),\n",
       " ('big', 0.9952630400657654),\n",
       " ('frameworks', 0.9944208264350891),\n",
       " ('knowledge', 0.9938005208969116),\n",
       " ('modeling', 0.9932716488838196),\n",
       " ('fundamentals', 0.9932254552841187),\n",
       " ('systems', 0.9930922985076904),\n",
       " ('understanding', 0.9925870895385742),\n",
       " ('analysis', 0.9925137758255005)]"
      ]
     },
     "execution_count": 57,
     "metadata": {},
     "output_type": "execute_result"
    }
   ],
   "source": [
    "Xwv = model.wv[model.wv.vocab]\n",
    "model.wv.most_similar(positive=\"nlp\")"
   ]
  },
  {
   "cell_type": "code",
   "execution_count": 52,
   "metadata": {},
   "outputs": [
    {
     "data": {
      "image/png": "[encoded data removed]",
      "text/plain": [
       "<matplotlib.figure.Figure at 0x220f46267b8>"
      ]
     },
     "metadata": {},
     "output_type": "display_data"
    }
   ],
   "source": [
    "from sklearn.decomposition import PCA\n",
    "\n",
    "pca = PCA(n_components=3)\n",
    "result = pca.fit_transform(Xwv)\n",
    "\n",
    "\n",
    "plt.scatter(result[:, 0], result[:, 1])\n",
    "\n",
    "words = list(model.wv.vocab)\n",
    "for i, word in enumerate(words):\n",
    "    plt.annotate(word, xy=(result[i, 0], result[i, 1]))\n",
    "\n",
    "plt.show()"
   ]
  },
  {
   "cell_type": "markdown",
   "metadata": {},
   "source": []
  }
 ],
 "metadata": {
  "kernelspec": {
   "display_name": "Python 3",
   "language": "python",
   "name": "python3"
  },
  "language_info": {
   "codemirror_mode": {
    "name": "ipython",
    "version": 3
   },
   "file_extension": ".py",
   "mimetype": "text/x-python",
   "name": "python",
   "nbconvert_exporter": "python",
   "pygments_lexer": "ipython3",
   "version": "3.6.4"
  }
 },
 "nbformat": 4,
 "nbformat_minor": 2
}
