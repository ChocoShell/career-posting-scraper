{
 "cells": [
  {
   "cell_type": "markdown",
   "metadata": {},
   "source": [
    "Trying to update the Webscraping Indeed Notebook to Python 3"
   ]
  },
  {
   "cell_type": "code",
   "execution_count": 1,
   "metadata": {},
   "outputs": [],
   "source": [
    "%load_ext autoreload\n",
    "%autoreload 2"
   ]
  },
  {
   "cell_type": "code",
   "execution_count": 34,
   "metadata": {},
   "outputs": [],
   "source": [
    "# API Calls\n",
    "import requests\n",
    "# Parse HTML\n",
    "import bs4\n",
    "# Handle Dataframes (excel data)\n",
    "import pandas as pd\n",
    "# Plotting library\n",
    "import matplotlib.pyplot as plt"
   ]
  },
  {
   "cell_type": "markdown",
   "metadata": {},
   "source": [
    "## Fetching and Cleaning Indeed Search Data"
   ]
  },
  {
   "cell_type": "code",
   "execution_count": 211,
   "metadata": {},
   "outputs": [],
   "source": [
    "from indeed_scraper import search_indeed, clean_data, save_data, posting_scraper\n",
    "from utils import save_data"
   ]
  },
  {
   "cell_type": "code",
   "execution_count": 319,
   "metadata": {},
   "outputs": [
    {
     "name": "stdout",
     "output_type": "stream",
     "text": [
      "./indeed_searches/software+python-2018_11_27-022431\n"
     ]
    }
   ],
   "source": [
    "# Fetch Page Information for Indeed Search\n",
    "# TODO: Add url encoding so you don't have to do it manually here.\n",
    "query = \"software+python\"\n",
    "cities = [\"New+York%2C+NY\", \"Greenwich%2C+CT\"]\n",
    "max_results_per_city = 100\n",
    "null_value = \"NA\"\n",
    "\n",
    "df = search_indeed(query, cities, max_results_per_city, null_value)\n",
    "df = clean_data(df)\n",
    "filename = save_data(df, query, path='./indeed_searches/')\n",
    "print(filename)"
   ]
  },
  {
   "cell_type": "markdown",
   "metadata": {},
   "source": [
    "## Getting Data Per Posting Page (WIP)"
   ]
  },
  {
   "cell_type": "code",
   "execution_count": 320,
   "metadata": {},
   "outputs": [],
   "source": [
    "# Getting one posting worth of data\n",
    "# url = data.loc[:, 'url'].values[88]\n",
    "# print(url)\n",
    "# html = requests.get(url).text\n",
    "# soups = bs4.BeautifulSoup(html, \"html.parser\")\n",
    "# # Print out job description as one srting\n",
    "# main_content = soups.find('div', {'class': \"jobsearch-JobComponent icl-u-xs-mt--sm jobsearch-JobComponent-bottomDivider\"})\n",
    "# job_description = soups.find('div', {'class': \"jobsearch-JobComponent-description icl-u-xs-mt--md\"})\n",
    "# ' '.join([x.get_text(strip=True) for x in job_description.find_all('li')])"
   ]
  },
  {
   "cell_type": "code",
   "execution_count": 321,
   "metadata": {},
   "outputs": [],
   "source": [
    "## Getting Data Per Posting Page (WIP)\n",
    "data = pd.read_csv(f\"{filename}.csv\", index_col=0)\n",
    "desc_dataframe = posting_scraper(data, filename, drop_old_postings=True, li_search=False)\n",
    "data['desc'] = desc_dataframe['desc']\n",
    "data.dropna(subset = ['desc'], inplace=True)\n",
    "data.reset_index(drop=True, inplace=True)\n",
    "data.to_csv(f'{filename}.csv', sep=',', encoding='utf-8')"
   ]
  },
  {
   "cell_type": "markdown",
   "metadata": {},
   "source": [
    "## Count Vectorizer on File\n",
    "Seeing most popular words in job posting."
   ]
  },
  {
   "cell_type": "code",
   "execution_count": 322,
   "metadata": {},
   "outputs": [],
   "source": [
    "# filename = \"machine+learning-2018_11_24-185749\"\n",
    "job_info = pd.read_csv(f'{filename}.csv', index_col=0)"
   ]
  },
  {
   "cell_type": "code",
   "execution_count": 323,
   "metadata": {},
   "outputs": [],
   "source": [
    "descriptions = []\n",
    "for txtfile in job_info['desc']:\n",
    "    with open(txtfile, 'r', encoding='utf-8') as the_file:\n",
    "        descriptions.append(the_file.read().lower())"
   ]
  },
  {
   "cell_type": "code",
   "execution_count": 324,
   "metadata": {},
   "outputs": [],
   "source": [
    "%autoreload 2\n",
    "from sklearn.feature_extraction.text import CountVectorizer\n",
    "from sklearn.feature_extraction.text import ENGLISH_STOP_WORDS\n",
    "from more_stop_words import more_stop_words\n",
    "custom_stop_words = ENGLISH_STOP_WORDS.union(more_stop_words)"
   ]
  },
  {
   "cell_type": "code",
   "execution_count": 325,
   "metadata": {},
   "outputs": [],
   "source": [
    "# print(descriptions)\n",
    "vectorizer = CountVectorizer(stop_words=custom_stop_words)\n",
    "X = vectorizer.fit_transform(descriptions)\n",
    "\n",
    "# Summing words along columns to find total amount of occurences per word.\n",
    "feature_names = vectorizer.get_feature_names()\n",
    "sum_words = X.sum(axis=0).tolist()[0]\n",
    "words_freq = zip(feature_names, sum_words)\n",
    "words_freq =sorted(words_freq, key = lambda x: -x[1])"
   ]
  },
  {
   "cell_type": "code",
   "execution_count": 326,
   "metadata": {},
   "outputs": [
    {
     "name": "stdout",
     "output_type": "stream",
     "text": [
      "[('python', 226), ('time', 119), ('java', 103), ('javascript', 81), ('york', 67), ('sql', 60), ('linux', 55), ('distributed', 54), ('bachelor', 53), ('platforms', 52), ('agile', 49), ('statistical', 49), ('stack', 47), ('automation', 45), ('frameworks', 43), ('scalable', 43), ('big', 41), ('internship', 41), ('contract', 40), ('apis', 39)]\n"
     ]
    }
   ],
   "source": [
    "# final_map = [word for word in words_freq if word[1] > 0]\n",
    "print(words_freq[:20])\n",
    "# final_map[:50]"
   ]
  },
  {
   "cell_type": "markdown",
   "metadata": {},
   "source": [
    "## TD-IDF Transformer and Clustering"
   ]
  },
  {
   "cell_type": "code",
   "execution_count": 327,
   "metadata": {},
   "outputs": [
    {
     "data": {
      "text/plain": [
       "6"
      ]
     },
     "execution_count": 327,
     "metadata": {},
     "output_type": "execute_result"
    }
   ],
   "source": [
    "from sklearn.feature_extraction.text import TfidfTransformer\n",
    "transformer = TfidfTransformer()\n",
    "X_tf = transformer.fit_transform(X)\n",
    "# print(X_tf.todense())\n",
    "X_tf.shape[0]//18"
   ]
  },
  {
   "cell_type": "code",
   "execution_count": 338,
   "metadata": {},
   "outputs": [
    {
     "name": "stdout",
     "output_type": "stream",
     "text": [
      "1 0.04545307159423828\n",
      "2 0.207871675491333\n",
      "3 0.19487953186035156\n",
      "4 0.2158653736114502\n",
      "5 0.23885130882263184\n",
      "6 0.26483678817749023\n",
      "7 0.3307938575744629\n",
      "8 0.2808253765106201\n",
      "9 0.3188021183013916\n",
      "10 0.35578012466430664\n",
      "11 0.35977649688720703\n",
      "12 0.42073774337768555\n",
      "13 0.42873430252075195\n",
      "14 0.39348316192626953\n",
      "15 0.4337320327758789\n",
      "16 0.4537184238433838\n",
      "17 0.4497199058532715\n",
      "18 0.4856994152069092\n",
      "19 0.538665771484375\n",
      "20 0.49669718742370605\n",
      "21 0.597628116607666\n",
      "22 0.5637242794036865\n",
      "23 0.6246356964111328\n",
      "24 0.6416006088256836\n",
      "25 0.6116204261779785\n",
      "26 0.6220734119415283\n",
      "27 0.6465976238250732\n",
      "28 0.6614875793457031\n",
      "29 0.7165544033050537\n",
      "30 0.7305467128753662\n",
      "31 0.737541913986206\n",
      "32 0.7625269889831543\n",
      "33 0.8214893341064453\n",
      "34 0.8025021553039551\n",
      "35 0.8214907646179199\n",
      "36 0.8754549026489258\n",
      "37 0.874457836151123\n",
      "38 0.9054374694824219\n",
      "39 0.8924508094787598\n",
      "40 1.0263698101043701\n",
      "41 1.1083159446716309\n",
      "42 1.0114257335662842\n",
      "43 0.9883866310119629\n",
      "44 0.9524111747741699\n",
      "45 1.0763506889343262\n",
      "46 1.0386688709259033\n",
      "47 1.1088547706604004\n",
      "48 1.0043761730194092\n",
      "49 1.030360221862793\n",
      "50 1.0913429260253906\n",
      "51 1.1083157062530518\n",
      "52 1.1432013511657715\n",
      "53 1.112238883972168\n",
      "54 1.5310745239257812\n",
      "55 1.3343122005462646\n",
      "56 1.2262382507324219\n",
      "57 1.285710096359253\n",
      "58 1.2685742378234863\n",
      "59 1.2991912364959717\n",
      "60 1.322183609008789\n",
      "61 1.284893274307251\n",
      "62 1.2732105255126953\n",
      "63 1.5370392799377441\n",
      "64 1.4670896530151367\n",
      "65 1.4368209838867188\n",
      "66 1.3418018817901611\n",
      "67 1.501072645187378\n",
      "68 1.404165506362915\n",
      "69 1.466090202331543\n",
      "70 1.56522798538208\n",
      "71 1.7443537712097168\n",
      "72 1.4141209125518799\n",
      "73 1.5370583534240723\n",
      "74 1.4690890312194824\n",
      "75 1.471085786819458\n",
      "76 1.5750482082366943\n",
      "77 1.5410590171813965\n",
      "78 1.8119573593139648\n",
      "79 1.8728971481323242\n",
      "80 1.6671960353851318\n",
      "81 1.5910136699676514\n",
      "82 1.5560340881347656\n",
      "83 1.5701735019683838\n",
      "84 1.6339902877807617\n",
      "85 1.568603277206421\n",
      "86 1.7529139518737793\n",
      "87 1.669973373413086\n",
      "88 1.8516218662261963\n",
      "89 1.6991283893585205\n",
      "90 1.7249302864074707\n",
      "91 1.8217861652374268\n",
      "92 1.9740791320800781\n",
      "93 2.2306268215179443\n",
      "94 1.8438584804534912\n",
      "95 1.7479150295257568\n",
      "96 1.7489137649536133\n",
      "97 1.803880214691162\n",
      "98 1.933804988861084\n",
      "99 1.8838341236114502\n",
      "100 1.852848768234253\n",
      "101 1.8468575477600098\n",
      "102 2.117621898651123\n",
      "103 2.277932643890381\n",
      "104 1.9897711277008057\n",
      "105 2.136693239212036\n",
      "106 1.9498023986816406\n",
      "107 2.1351888179779053\n",
      "108 2.0367488861083984\n",
      "109 1.951789379119873\n",
      "110 1.971775770187378\n",
      "111 1.984787940979004\n",
      "112 2.1027040481567383\n",
      "113 1.9947636127471924\n",
      "114 2.0418779850006104\n",
      "115 2.127678871154785\n"
     ]
    },
    {
     "data": {
      "image/png": "[encoded data removed]",
      "text/plain": [
       "<matplotlib.figure.Figure at 0x1e923aadbe0>"
      ]
     },
     "metadata": {},
     "output_type": "display_data"
    },
    {
     "name": "stdout",
     "output_type": "stream",
     "text": [
      "Cluster 0 - 3: crestron op electronics clearance 2019 studio january buildings gpa modeling\n",
      "Cluster 1 - 11: sql stack fullscreen python django jobtarget fix apis red hat\n",
      "Cluster 2 - 5: computational genetic gene ux disease biology outstanding prior invitae researchers\n",
      "Cluster 3 - 3: sales ticket tableau tickets reports ads yankees pricing kore warehouse\n",
      "Cluster 4 - 10: ca internship transcript wa android students attach protegrity english section\n",
      "Cluster 5 - 14: contract embedded linux proven python qa perficient os jira automation\n",
      "Cluster 6 - 4: capital paribus money banking succeeding teamwork consumers bringing respect transformative\n",
      "Cluster 7 - 6: advertising automation optik tru chef puppet times perl ansible journalism\n",
      "Cluster 8 - 4: financial risk brokers broker electronic pl ubs hedge trades portfolio\n",
      "Cluster 9 - 2: equinox consumer js club commission living architecting inspiring brands addition\n",
      "Cluster 10 - 6: ibm quantum analytics qiskit prof eo immigration hardware sessions monthly\n",
      "Cluster 11 - 3: spincar css internship 360 command aws javascript automotive jquery linux\n",
      "Cluster 12 - 8: natural security artificial processing storage ideas versatile ui switch qualities\n",
      "Cluster 13 - 5: video equipment jw editing 3d printing player teledyne lunch editor\n",
      "Cluster 14 - 4: confiant aws big believe integrations bluecore publisher backend bigquery safe\n",
      "Cluster 15 - 7: investment bank big financial oath chase jpmorgan blockchain innovators markets\n",
      "Cluster 16 - 4: travel thoughtworks tivix organizations nyc tenants justfix home reimbursement agile\n",
      "Cluster 17 - 3: strategy scripting sdet selenium framework sdets coverage nosql perl ambiguous\n",
      "Cluster 18 - 4: statistical infusion applied statistics analyses trial aws administration insurance interactions\n",
      "Cluster 19 - 10: trading hrt kdb time 60 150 framework distributed algo aes\n"
     ]
    }
   ],
   "source": [
    "from sklearn.cluster import KMeans\n",
    "from scipy.spatial.distance import cdist\n",
    "# Using 8 buckets, should use differnt amount.\n",
    "km = KMeans(n_clusters=20, init='k-means++', max_iter=100, n_init=1)\n",
    "km.fit(X_tf)\n",
    "\n",
    "# k means determine k\n",
    "import time\n",
    "# 100-150 -> .70-.58\n",
    "distortions = []\n",
    "K = range(1, X_tf.shape[0])\n",
    "for k in K:\n",
    "    start = time.time()\n",
    "    X_tf_arr = X_tf.toarray()\n",
    "    kmeanModel = KMeans(n_clusters=k, init='k-means++', max_iter=100)\n",
    "    kmeanModel.fit(X_tf_arr)\n",
    "    distortions.append(sum(np.min(cdist(X_tf_arr, kmeanModel.cluster_centers_, 'euclidean'), axis=1)) / X_tf_arr.shape[0])\n",
    "    end = time.time()\n",
    "    print(k, end - start)\n",
    "# Plot the elbow\n",
    "plt.plot(K, distortions, 'bx-')\n",
    "plt.xlabel('k')\n",
    "plt.ylabel('Distortion')\n",
    "plt.title('The Elbow Method showing the optimal k')\n",
    "plt.show()\n",
    "order_centroids = km.cluster_centers_.argsort()[:, ::-1]\n",
    "terms = feature_names\n",
    "for i in range(len(order_centroids)):\n",
    "    print(f\"Cluster {i} - {np.where(km.labels_ == i)[0].shape[0]}:\" , end='')\n",
    "    for ind in order_centroids[i, :10]:\n",
    "        print(' %s' % terms[ind], end='')\n",
    "    print()"
   ]
  },
  {
   "cell_type": "code",
   "execution_count": 341,
   "metadata": {},
   "outputs": [
    {
     "data": {
      "text/html": [
       "<div>\n",
       "<style scoped>\n",
       "    .dataframe tbody tr th:only-of-type {\n",
       "        vertical-align: middle;\n",
       "    }\n",
       "\n",
       "    .dataframe tbody tr th {\n",
       "        vertical-align: top;\n",
       "    }\n",
       "\n",
       "    .dataframe thead th {\n",
       "        text-align: right;\n",
       "    }\n",
       "</style>\n",
       "<table border=\"1\" class=\"dataframe\">\n",
       "  <thead>\n",
       "    <tr style=\"text-align: right;\">\n",
       "      <th></th>\n",
       "      <th>company</th>\n",
       "      <th>job_title</th>\n",
       "      <th>url</th>\n",
       "      <th>location</th>\n",
       "    </tr>\n",
       "  </thead>\n",
       "  <tbody>\n",
       "    <tr>\n",
       "      <th>8</th>\n",
       "      <td>BrightStart Institute - Building Skills for the Fu...</td>\n",
       "      <td>Intern / Trainee WEB developer- Full-Stack</td>\n",
       "      <td>https://www.indeed.com/viewjob?jk=e274cc84163ef929</td>\n",
       "      <td>New+York%2C+NY</td>\n",
       "    </tr>\n",
       "    <tr>\n",
       "      <th>46</th>\n",
       "      <td>Accenture</td>\n",
       "      <td>Emerging Technology - Software Innovation Specialist</td>\n",
       "      <td>https://www.indeed.com/viewjob?jk=0163a18d48984c7f</td>\n",
       "      <td>New+York%2C+NY</td>\n",
       "    </tr>\n",
       "    <tr>\n",
       "      <th>56</th>\n",
       "      <td>Hudson River Trading</td>\n",
       "      <td>Algo Software Engineer (C++/Python)</td>\n",
       "      <td>https://www.indeed.com/viewjob?jk=c7c193ae35f5bad7</td>\n",
       "      <td>New+York%2C+NY</td>\n",
       "    </tr>\n",
       "    <tr>\n",
       "      <th>59</th>\n",
       "      <td>Hudson River Trading</td>\n",
       "      <td>Algo Software Engineer (C++/Python)</td>\n",
       "      <td>https://www.indeed.com/viewjob?jk=c7c193ae35f5bad7</td>\n",
       "      <td>New+York%2C+NY</td>\n",
       "    </tr>\n",
       "    <tr>\n",
       "      <th>61</th>\n",
       "      <td>RedRoute</td>\n",
       "      <td>Full Stack Software Engineer</td>\n",
       "      <td>https://www.indeed.com/viewjob?jk=bfd5c9e9aa6b6104</td>\n",
       "      <td>New+York%2C+NY</td>\n",
       "    </tr>\n",
       "    <tr>\n",
       "      <th>62</th>\n",
       "      <td>Integrated Management Solutions USA LLC</td>\n",
       "      <td>KDB+/Q Software Engineer</td>\n",
       "      <td>https://www.indeed.com/viewjob?jk=a11d81467860fb69</td>\n",
       "      <td>New+York%2C+NY</td>\n",
       "    </tr>\n",
       "    <tr>\n",
       "      <th>76</th>\n",
       "      <td>Condor Alpha Asset Management</td>\n",
       "      <td>Software Developer</td>\n",
       "      <td>https://www.indeed.com/viewjob?jk=a757b3b6b9677244</td>\n",
       "      <td>Greenwich%2C+CT</td>\n",
       "    </tr>\n",
       "    <tr>\n",
       "      <th>105</th>\n",
       "      <td>Eastridge Workforce Solutions</td>\n",
       "      <td>Senior Software Engineer</td>\n",
       "      <td>https://www.indeed.com/viewjob?jk=88e08bde12d89549</td>\n",
       "      <td>Greenwich%2C+CT</td>\n",
       "    </tr>\n",
       "    <tr>\n",
       "      <th>107</th>\n",
       "      <td>Excellence Community Schools</td>\n",
       "      <td>Computer Science Teacher (CT)</td>\n",
       "      <td>https://www.indeed.com/viewjob?jk=ed91b36897edbc0c</td>\n",
       "      <td>Greenwich%2C+CT</td>\n",
       "    </tr>\n",
       "    <tr>\n",
       "      <th>110</th>\n",
       "      <td>BestEx Research Group,LLC</td>\n",
       "      <td>Front End Web Engineer/Full Stack Developer</td>\n",
       "      <td>https://www.indeed.com/viewjob?jk=4a88be57a780cf2e</td>\n",
       "      <td>Greenwich%2C+CT</td>\n",
       "    </tr>\n",
       "  </tbody>\n",
       "</table>\n",
       "</div>"
      ],
      "text/plain": [
       "                                                           company  \\\n",
       "8            BrightStart Institute - Building Skills for the Fu...   \n",
       "46           Accenture                                               \n",
       "56           Hudson River Trading                                    \n",
       "59           Hudson River Trading                                    \n",
       "61           RedRoute                                                \n",
       "62           Integrated Management Solutions USA LLC                 \n",
       "76           Condor Alpha Asset Management                           \n",
       "105          Eastridge Workforce Solutions                           \n",
       "107          Excellence Community Schools                            \n",
       "110          BestEx Research Group,LLC                               \n",
       "\n",
       "                                                job_title  \\\n",
       "8    Intern / Trainee WEB developer- Full-Stack             \n",
       "46   Emerging Technology - Software Innovation Specialist   \n",
       "56   Algo Software Engineer (C++/Python)                    \n",
       "59   Algo Software Engineer (C++/Python)                    \n",
       "61   Full Stack Software Engineer                           \n",
       "62   KDB+/Q Software Engineer                               \n",
       "76   Software Developer                                     \n",
       "105  Senior Software Engineer                               \n",
       "107  Computer Science Teacher (CT)                          \n",
       "110  Front End Web Engineer/Full Stack Developer            \n",
       "\n",
       "                                                    url         location  \n",
       "8    https://www.indeed.com/viewjob?jk=e274cc84163ef929  New+York%2C+NY   \n",
       "46   https://www.indeed.com/viewjob?jk=0163a18d48984c7f  New+York%2C+NY   \n",
       "56   https://www.indeed.com/viewjob?jk=c7c193ae35f5bad7  New+York%2C+NY   \n",
       "59   https://www.indeed.com/viewjob?jk=c7c193ae35f5bad7  New+York%2C+NY   \n",
       "61   https://www.indeed.com/viewjob?jk=bfd5c9e9aa6b6104  New+York%2C+NY   \n",
       "62   https://www.indeed.com/viewjob?jk=a11d81467860fb69  New+York%2C+NY   \n",
       "76   https://www.indeed.com/viewjob?jk=a757b3b6b9677244  Greenwich%2C+CT  \n",
       "105  https://www.indeed.com/viewjob?jk=88e08bde12d89549  Greenwich%2C+CT  \n",
       "107  https://www.indeed.com/viewjob?jk=ed91b36897edbc0c  Greenwich%2C+CT  \n",
       "110  https://www.indeed.com/viewjob?jk=4a88be57a780cf2e  Greenwich%2C+CT  "
      ]
     },
     "execution_count": 341,
     "metadata": {},
     "output_type": "execute_result"
    }
   ],
   "source": [
    "pd.set_option('display.max_colwidth', -1)\n",
    "\n",
    "filtered_data = data.loc[ cluster_index(km.labels_, 19), ['company', 'job_title', 'url', 'location']]\n",
    "# filtered_data = filtered_data[filtered_data['location'].str.contains('New|CT')]\n",
    "# filtered_data.to_csv('data_engineering.csv', sep=',', encoding='utf-8')\n",
    "filtered_data\n",
    "\n",
    "# for i in range(len(order_centroids)):\n",
    "#     filtered_data = data.loc[ cluster_index(km.labels_, i), ['company', 'job_title', 'url', 'location']]\n",
    "#     filtered_data['company'] = filtered_data['company'].str.strip()\n",
    "#     filtered_data.to_csv(f'{filename}/cluster_{i}_k_20.csv', sep=',', encoding='utf-8', index=False)\n",
    "\n"
   ]
  },
  {
   "cell_type": "markdown",
   "metadata": {},
   "source": [
    "Next Steps are to sort these words into categories (job, technologies, companies)"
   ]
  }
 ],
 "metadata": {
  "kernelspec": {
   "display_name": "Python 3",
   "language": "python",
   "name": "python3"
  },
  "language_info": {
   "codemirror_mode": {
    "name": "ipython",
    "version": 3
   },
   "file_extension": ".py",
   "mimetype": "text/x-python",
   "name": "python",
   "nbconvert_exporter": "python",
   "pygments_lexer": "ipython3",
   "version": "3.6.4"
  }
 },
 "nbformat": 4,
 "nbformat_minor": 2
}
