{
 "cells": [
  {
   "cell_type": "markdown",
   "metadata": {},
   "source": [
    "Trying to update the Webscraping Indeed Notebook to Python 3"
   ]
  },
  {
   "cell_type": "code",
   "execution_count": 2,
   "metadata": {},
   "outputs": [],
   "source": [
    "%load_ext autoreload\n",
    "%autoreload 2"
   ]
  },
  {
   "cell_type": "code",
   "execution_count": 3,
   "metadata": {},
   "outputs": [],
   "source": [
    "# API Calls\n",
    "import requests\n",
    "# Parse HTML\n",
    "import bs4\n",
    "# Handle Dataframes (excel data)\n",
    "import pandas as pd\n",
    "# Plotting library\n",
    "# import matplotlib as plt"
   ]
  },
  {
   "cell_type": "markdown",
   "metadata": {},
   "source": [
    "## Fetching and Cleaning Indeed Search Data"
   ]
  },
  {
   "cell_type": "code",
   "execution_count": 15,
   "metadata": {},
   "outputs": [],
   "source": [
    "from indeed_scraper import search_indeed, clean_data, save_data, posting_scraper\n",
    "from utils import save_data"
   ]
  },
  {
   "cell_type": "code",
   "execution_count": 20,
   "metadata": {},
   "outputs": [
    {
     "name": "stdout",
     "output_type": "stream",
     "text": [
      "./indeed_searches/machine+learning-2018_11_25-165725\n"
     ]
    }
   ],
   "source": [
    "# Fetch Page Information for Indeed Search\n",
    "# TODO: Add url encoding so you don't have to do it manually here.\n",
    "query = \"machine+learning\"\n",
    "cities = [\"New+York%2C+NY\", \"San+Francisco%2C+CA\", \"Boston%2C+MA\", \"Greenwich%2C+CT\"]\n",
    "max_results_per_city = 100\n",
    "null_value = \"NA\"\n",
    "\n",
    "df = search_indeed(query, cities, max_results_per_city, null_value)\n",
    "df = clean_data(df)\n",
    "filename = save_data(df, query, path='./indeed_searches/')\n",
    "print(filename)"
   ]
  },
  {
   "cell_type": "markdown",
   "metadata": {},
   "source": [
    "## Getting Data Per Posting Page (WIP)"
   ]
  },
  {
   "cell_type": "code",
   "execution_count": 19,
   "metadata": {},
   "outputs": [],
   "source": [
    "# # Getting one posting worth of data\n",
    "# url = data.loc[:, 'url'].values[0]\n",
    "# html = requests.get(url).text\n",
    "# soups = bs4.BeautifulSoup(html, \"html.parser\")\n",
    "# # Print out job description as one srting\n",
    "# main_content = soups.find('div', {'class': \"jobsearch-JobComponent icl-u-xs-mt--sm jobsearch-JobComponent-bottomDivider\"})\n",
    "# job_description = soups.find('div', {'class': \"jobsearch-JobComponent-description icl-u-xs-mt--md\"})\n",
    "# # job_description.get_text(\"  \", strip=True).strip()"
   ]
  },
  {
   "cell_type": "code",
   "execution_count": 34,
   "metadata": {
    "scrolled": true
   },
   "outputs": [],
   "source": [
    "# # Print out job description as one srting\n",
    "# main_content = soups.find('div', {'class': \"jobsearch-JobComponent icl-u-xs-mt--sm jobsearch-JobComponent-bottomDivider\"})\n",
    "# job_description = soups.find('div', {'class': \"jobsearch-JobComponent-description icl-u-xs-mt--md\"})\n",
    "# # job_description.get_text(\"  \", strip=True).strip()"
   ]
  },
  {
   "cell_type": "code",
   "execution_count": 21,
   "metadata": {},
   "outputs": [],
   "source": [
    "## Getting Data Per Posting Page (WIP)\n",
    "data = pd.read_csv(f\"{filename}.csv\", index_col=0)\n",
    "desc_dataframe = posting_scraper(data, filename)\n",
    "data['desc'] = desc_dataframe['desc']\n",
    "\n",
    "data.to_csv(f'{filename}.csv', sep=',', encoding='utf-8')"
   ]
  },
  {
   "cell_type": "markdown",
   "metadata": {},
   "source": [
    "## Count Vectorizer on File\n",
    "Seeing most popular words in job posting."
   ]
  },
  {
   "cell_type": "code",
   "execution_count": 22,
   "metadata": {},
   "outputs": [],
   "source": [
    "# filename = \"machine+learning-2018_11_24-185749\"\n",
    "job_info = pd.read_csv(f'{filename}.csv', index_col=0)"
   ]
  },
  {
   "cell_type": "code",
   "execution_count": 23,
   "metadata": {},
   "outputs": [],
   "source": [
    "descriptions = []\n",
    "for txtfile in job_info['desc']:\n",
    "    with open(txtfile, 'r', encoding='utf-8') as the_file:\n",
    "        descriptions.append(the_file.read().lower())"
   ]
  },
  {
   "cell_type": "code",
   "execution_count": 24,
   "metadata": {},
   "outputs": [],
   "source": [
    "# https://medium.com/@cristhianboujon/how-to-list-the-most-common-words-from-text-corpus-using-scikit-learn-dad4d0cab41d\n",
    "def get_top_n_words(corpus, stop_words=None):\n",
    "    \"\"\"\n",
    "    List the top n words in a vocabulary according to occurrence in a text corpus.\n",
    "    \n",
    "    get_top_n_words([\"I love Python\", \"Python is a language programming\", \"Hello world\", \"I love the world\"]) -> \n",
    "    [('python', 2),\n",
    "     ('world', 2),\n",
    "     ('love', 2),\n",
    "     ('hello', 1),\n",
    "     ('is', 1),\n",
    "     ('programming', 1),\n",
    "     ('the', 1),\n",
    "     ('language', 1)]\n",
    "    \"\"\"\n",
    "    vectorizer = CountVectorizer(stop_words=stop_words)\n",
    "    X = vectorizer.fit_transform(corpus)\n",
    "    feature_names = vectorizer.get_feature_names()\n",
    "    sum_words = X.sum(axis=0).tolist()[0]\n",
    "    words_freq = zip(feature_names, sum_words)\n",
    "    words_freq =sorted(words_freq, key = lambda x: -x[1])\n",
    "    return words_freq"
   ]
  },
  {
   "cell_type": "code",
   "execution_count": 53,
   "metadata": {},
   "outputs": [],
   "source": [
    "%autoreload 2\n",
    "from sklearn.feature_extraction.text import CountVectorizer\n",
    "from sklearn.feature_extraction.text import ENGLISH_STOP_WORDS\n",
    "from more_stop_words import more_stop_words\n",
    "custom_stop_words = ENGLISH_STOP_WORDS.union(more_stop_words)\n",
    "# from sklearn.model_selection import train_test_split"
   ]
  },
  {
   "cell_type": "code",
   "execution_count": 54,
   "metadata": {},
   "outputs": [],
   "source": [
    "# print(descriptions)\n",
    "vectorizer = CountVectorizer(stop_words=custom_stop_words)\n",
    "X = vectorizer.fit_transform(descriptions)\n",
    "\n",
    "# Summing words along columns to find total amount of occurences per word.\n",
    "feature_names = vectorizer.get_feature_names()\n",
    "sum_words = X.sum(axis=0).tolist()[0]\n",
    "words_freq = zip(feature_names, sum_words)\n",
    "words_freq =sorted(words_freq, key = lambda x: -x[1])"
   ]
  },
  {
   "cell_type": "code",
   "execution_count": 55,
   "metadata": {},
   "outputs": [
    {
     "data": {
      "text/plain": [
       "[('python', 379),\n",
       " ('deep', 348),\n",
       " ('analytics', 323),\n",
       " ('language', 310),\n",
       " ('ml', 304),\n",
       " ('google', 283),\n",
       " ('ai', 279),\n",
       " ('processing', 230),\n",
       " ('statistical', 203),\n",
       " ('natural', 182),\n",
       " ('modeling', 172),\n",
       " ('java', 170),\n",
       " ('statistics', 165),\n",
       " ('scientists', 159),\n",
       " ('artificial', 157),\n",
       " ('tensorflow', 156),\n",
       " ('font', 150),\n",
       " ('quantitative', 143),\n",
       " ('vision', 139),\n",
       " ('advanced', 129),\n",
       " ('financial', 125),\n",
       " ('applied', 122),\n",
       " ('phd', 122),\n",
       " ('marketing', 119),\n",
       " ('analytical', 116),\n",
       " ('scientist', 112),\n",
       " ('model', 108),\n",
       " ('frameworks', 105),\n",
       " ('york', 104),\n",
       " ('spark', 103),\n",
       " ('sql', 103),\n",
       " ('training', 102),\n",
       " ('mathematics', 99),\n",
       " ('computational', 98),\n",
       " ('optimization', 97),\n",
       " ('nlp', 96),\n",
       " ('strategy', 96),\n",
       " ('mining', 94),\n",
       " ('sets', 94),\n",
       " ('group', 92),\n",
       " ('amazon', 91),\n",
       " ('cross', 88),\n",
       " ('hadoop', 87),\n",
       " ('gartner', 85),\n",
       " ('ms', 85),\n",
       " ('senior', 84),\n",
       " ('strategies', 83),\n",
       " ('art', 81),\n",
       " ('clinical', 81),\n",
       " ('education', 81)]"
      ]
     },
     "execution_count": 55,
     "metadata": {},
     "output_type": "execute_result"
    }
   ],
   "source": [
    "final_map = [word for word in words_freq if word[1] > 0]\n",
    "# print(words_freq[:20])\n",
    "final_map[:50]"
   ]
  },
  {
   "cell_type": "code",
   "execution_count": 68,
   "metadata": {},
   "outputs": [],
   "source": [
    "from sklearn.feature_extraction.text import TfidfTransformer\n",
    "transformer = TfidfTransformer(use_idf=False)\n",
    "X_tf = TfidfTransformer(use_idf=False).fit_transform(X)"
   ]
  },
  {
   "cell_type": "code",
   "execution_count": 69,
   "metadata": {},
   "outputs": [
    {
     "ename": "AttributeError",
     "evalue": "'TfidfTransformer' object has no attribute 'get_feature_names'",
     "output_type": "error",
     "traceback": [
      "\u001b[1;31m---------------------------------------------------------------------------\u001b[0m",
      "\u001b[1;31mAttributeError\u001b[0m                            Traceback (most recent call last)",
      "\u001b[1;32m<ipython-input-69-02f7a5a6b803>\u001b[0m in \u001b[0;36m<module>\u001b[1;34m()\u001b[0m\n\u001b[0;32m      1\u001b[0m \u001b[0msum_words_tf\u001b[0m \u001b[1;33m=\u001b[0m \u001b[0mX_tf\u001b[0m\u001b[1;33m.\u001b[0m\u001b[0msum\u001b[0m\u001b[1;33m(\u001b[0m\u001b[0maxis\u001b[0m\u001b[1;33m=\u001b[0m\u001b[1;36m0\u001b[0m\u001b[1;33m)\u001b[0m\u001b[1;33m.\u001b[0m\u001b[0mtolist\u001b[0m\u001b[1;33m(\u001b[0m\u001b[1;33m)\u001b[0m\u001b[1;33m[\u001b[0m\u001b[1;36m0\u001b[0m\u001b[1;33m]\u001b[0m\u001b[1;33m\u001b[0m\u001b[0m\n\u001b[1;32m----> 2\u001b[1;33m \u001b[0mfeature_names_tf\u001b[0m \u001b[1;33m=\u001b[0m \u001b[0mtransformer\u001b[0m\u001b[1;33m.\u001b[0m\u001b[0mget_feature_names\u001b[0m\u001b[1;33m(\u001b[0m\u001b[1;33m)\u001b[0m\u001b[1;33m\u001b[0m\u001b[0m\n\u001b[0m\u001b[0;32m      3\u001b[0m \u001b[0mprint\u001b[0m\u001b[1;33m(\u001b[0m\u001b[0mfeature_names_tf\u001b[0m\u001b[1;33m)\u001b[0m\u001b[1;33m\u001b[0m\u001b[0m\n\u001b[0;32m      4\u001b[0m \u001b[0mwords_freq_tf\u001b[0m  \u001b[1;33m=\u001b[0m \u001b[0mzip\u001b[0m\u001b[1;33m(\u001b[0m\u001b[0mfeature_names_tf\u001b[0m\u001b[1;33m,\u001b[0m \u001b[0msum_words_tf\u001b[0m\u001b[1;33m)\u001b[0m\u001b[1;33m\u001b[0m\u001b[0m\n",
      "\u001b[1;31mAttributeError\u001b[0m: 'TfidfTransformer' object has no attribute 'get_feature_names'"
     ]
    }
   ],
   "source": [
    "sum_words_tf = X_tf.sum(axis=0).tolist()[0]\n",
    "feature_names_tf = transformer.get_feature_names()\n",
    "print(feature_names_tf)\n",
    "words_freq_tf  = zip(feature_names_tf, sum_words_tf)\n"
   ]
  },
  {
   "cell_type": "markdown",
   "metadata": {},
   "source": [
    "Next Steps are to sort these words into categories (job, technologies, companies)"
   ]
  }
 ],
 "metadata": {
  "kernelspec": {
   "display_name": "Python 3",
   "language": "python",
   "name": "python3"
  },
  "language_info": {
   "codemirror_mode": {
    "name": "ipython",
    "version": 3
   },
   "file_extension": ".py",
   "mimetype": "text/x-python",
   "name": "python",
   "nbconvert_exporter": "python",
   "pygments_lexer": "ipython3",
   "version": "3.6.4"
  }
 },
 "nbformat": 4,
 "nbformat_minor": 2
}
