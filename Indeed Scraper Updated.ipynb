{
 "cells": [
  {
   "cell_type": "markdown",
   "metadata": {},
   "source": [
    "Trying to update the Webscraping Indeed Notebook to Python 3"
   ]
  },
  {
   "cell_type": "code",
   "execution_count": 1,
   "metadata": {},
   "outputs": [],
   "source": [
    "%load_ext autoreload\n",
    "%autoreload 2"
   ]
  },
  {
   "cell_type": "code",
   "execution_count": 34,
   "metadata": {},
   "outputs": [],
   "source": [
    "# API Calls\n",
    "import requests\n",
    "# Parse HTML\n",
    "import bs4\n",
    "# Handle Dataframes (excel data)\n",
    "import pandas as pd\n",
    "# Plotting library\n",
    "import matplotlib.pyplot as plt"
   ]
  },
  {
   "cell_type": "markdown",
   "metadata": {},
   "source": [
    "## Fetching and Cleaning Indeed Search Data"
   ]
  },
  {
   "cell_type": "code",
   "execution_count": 35,
   "metadata": {},
   "outputs": [],
   "source": [
    "from indeed_scraper import search_indeed, clean_data, save_data, posting_scraper\n",
    "from utils import save_data"
   ]
  },
  {
   "cell_type": "code",
   "execution_count": 57,
   "metadata": {},
   "outputs": [
    {
     "name": "stdout",
     "output_type": "stream",
     "text": [
      "./indeed_searches/machine+learning-2018_11_26-200547\n"
     ]
    }
   ],
   "source": [
    "# Fetch Page Information for Indeed Search\n",
    "# TODO: Add url encoding so you don't have to do it manually here.\n",
    "query = \"machine+learning\"\n",
    "cities = [\"New+York%2C+NY\", \"San+Francisco%2C+CA\", \"Dallas-Fort+Worth%2C+TX\", \"Boston%2C+MA\", \"Greenwich%2C+CT\"]\n",
    "max_results_per_city = 100\n",
    "null_value = \"NA\"\n",
    "\n",
    "df = search_indeed(query, cities, max_results_per_city, null_value)\n",
    "df = clean_data(df)\n",
    "filename = save_data(df, query, path='./indeed_searches/')\n",
    "print(filename)"
   ]
  },
  {
   "cell_type": "markdown",
   "metadata": {},
   "source": [
    "## Getting Data Per Posting Page (WIP)"
   ]
  },
  {
   "cell_type": "code",
   "execution_count": 58,
   "metadata": {},
   "outputs": [],
   "source": [
    "# # Getting one posting worth of data\n",
    "# url = data.loc[:, 'url'].values[0]\n",
    "# html = requests.get(url).text\n",
    "# soups = bs4.BeautifulSoup(html, \"html.parser\")\n",
    "# # Print out job description as one srting\n",
    "# main_content = soups.find('div', {'class': \"jobsearch-JobComponent icl-u-xs-mt--sm jobsearch-JobComponent-bottomDivider\"})\n",
    "# job_description = soups.find('div', {'class': \"jobsearch-JobComponent-description icl-u-xs-mt--md\"})\n",
    "# job_description.get_text(\"  \", strip=True).strip()"
   ]
  },
  {
   "cell_type": "code",
   "execution_count": 59,
   "metadata": {},
   "outputs": [],
   "source": [
    "## Getting Data Per Posting Page (WIP)\n",
    "data = pd.read_csv(f\"{filename}.csv\", index_col=0)\n",
    "desc_dataframe = posting_scraper(data, filename, drop_old_postings=True)\n",
    "data['desc'] = desc_dataframe['desc']\n",
    "data.dropna(subset = ['desc'], inplace=True)\n",
    "data.reset_index(drop=True, inplace=True)\n",
    "data.to_csv(f'{filename}.csv', sep=',', encoding='utf-8')"
   ]
  },
  {
   "cell_type": "markdown",
   "metadata": {},
   "source": [
    "## Count Vectorizer on File\n",
    "Seeing most popular words in job posting."
   ]
  },
  {
   "cell_type": "code",
   "execution_count": 60,
   "metadata": {},
   "outputs": [],
   "source": [
    "# filename = \"machine+learning-2018_11_24-185749\"\n",
    "job_info = pd.read_csv(f'{filename}.csv', index_col=0)"
   ]
  },
  {
   "cell_type": "code",
   "execution_count": 61,
   "metadata": {},
   "outputs": [],
   "source": [
    "descriptions = []\n",
    "for txtfile in job_info['desc']:\n",
    "    with open(txtfile, 'r', encoding='utf-8') as the_file:\n",
    "        descriptions.append(the_file.read().lower())"
   ]
  },
  {
   "cell_type": "code",
   "execution_count": 134,
   "metadata": {},
   "outputs": [],
   "source": [
    "%autoreload 2\n",
    "from sklearn.feature_extraction.text import CountVectorizer\n",
    "from sklearn.feature_extraction.text import ENGLISH_STOP_WORDS\n",
    "from more_stop_words import more_stop_words\n",
    "custom_stop_words = ENGLISH_STOP_WORDS.union(more_stop_words)"
   ]
  },
  {
   "cell_type": "code",
   "execution_count": 135,
   "metadata": {},
   "outputs": [],
   "source": [
    "# print(descriptions)\n",
    "vectorizer = CountVectorizer(stop_words=custom_stop_words)\n",
    "X = vectorizer.fit_transform(descriptions)\n",
    "\n",
    "# Summing words along columns to find total amount of occurences per word.\n",
    "feature_names = vectorizer.get_feature_names()\n",
    "sum_words = X.sum(axis=0).tolist()[0]\n",
    "words_freq = zip(feature_names, sum_words)\n",
    "words_freq =sorted(words_freq, key = lambda x: -x[1])"
   ]
  },
  {
   "cell_type": "code",
   "execution_count": 136,
   "metadata": {},
   "outputs": [
    {
     "name": "stdout",
     "output_type": "stream",
     "text": [
      "[('analytics', 235), ('python', 221), ('time', 187), ('deep', 161), ('ai', 155), ('language', 154), ('processing', 137), ('ml', 128), ('statistical', 112), ('java', 103), ('big', 102), ('modeling', 101), ('statistics', 101), ('natural', 99), ('advanced', 97), ('artificial', 93), ('sql', 84), ('mining', 80), ('scientists', 79), ('analytical', 75)]\n"
     ]
    }
   ],
   "source": [
    "# final_map = [word for word in words_freq if word[1] > 0]\n",
    "print(words_freq[:20])\n",
    "# final_map[:50]"
   ]
  },
  {
   "cell_type": "markdown",
   "metadata": {},
   "source": [
    "## TD-IDF Transformer and Clustering"
   ]
  },
  {
   "cell_type": "code",
   "execution_count": 137,
   "metadata": {},
   "outputs": [
    {
     "data": {
      "text/plain": [
       "13"
      ]
     },
     "execution_count": 137,
     "metadata": {},
     "output_type": "execute_result"
    }
   ],
   "source": [
    "from sklearn.feature_extraction.text import TfidfTransformer\n",
    "transformer = TfidfTransformer()\n",
    "X_tf = transformer.fit_transform(X)\n",
    "# print(X_tf.todense())\n",
    "X_tf.shape[0]//18"
   ]
  },
  {
   "cell_type": "code",
   "execution_count": 138,
   "metadata": {},
   "outputs": [
    {
     "data": {
      "text/plain": [
       "KMeans(algorithm='auto', copy_x=True, init='k-means++', max_iter=100,\n",
       "    n_clusters=15, n_init=1, n_jobs=1, precompute_distances='auto',\n",
       "    random_state=None, tol=0.0001, verbose=0)"
      ]
     },
     "execution_count": 138,
     "metadata": {},
     "output_type": "execute_result"
    }
   ],
   "source": [
    "from sklearn.cluster import KMeans\n",
    "from scipy.spatial.distance import cdist\n",
    "# Using 8 buckets, should use differnt amount.\n",
    "km = KMeans(n_clusters=15, init='k-means++', max_iter=100, n_init=1)\n",
    "km.fit(X_tf)\n",
    "\n",
    "# k means determine k\n",
    "# import time\n",
    "# # 100-150 -> .70-.58\n",
    "# distortions = []\n",
    "# K = range(1, 394)\n",
    "# for k in K:\n",
    "#     start = time.time()\n",
    "#     X_tf_arr = X_tf.toarray()\n",
    "#     kmeanModel = KMeans(n_clusters=k, init='k-means++', max_iter=100, n_init=1)\n",
    "#     kmeanModel.fit(X_tf_arr)\n",
    "#     distortions.append(sum(np.min(cdist(X_tf_arr, kmeanModel.cluster_centers_, 'euclidean'), axis=1)) / X_tf_arr.shape[0])\n",
    "#     end = time.time()\n",
    "#     print(k, end - start)\n",
    "# Plot the elbow\n",
    "# plt.plot(K, distortions, 'bx-')\n",
    "# plt.xlabel('k')\n",
    "# plt.ylabel('Distortion')\n",
    "# plt.title('The Elbow Method showing the optimal k')\n",
    "# plt.show()\n"
   ]
  },
  {
   "cell_type": "code",
   "execution_count": 139,
   "metadata": {},
   "outputs": [],
   "source": [
    "# # Plot the elbow\n",
    "# start = 315\n",
    "# step = 15\n",
    "# plt.plot(K[start::step], distortions[start::step], 'bx-')\n",
    "# plt.xlabel('k')\n",
    "# plt.ylabel('Distortion')\n",
    "# plt.title('The Elbow Method showing the optimal k')\n",
    "# plt.show()"
   ]
  },
  {
   "cell_type": "code",
   "execution_count": 140,
   "metadata": {},
   "outputs": [
    {
     "name": "stdout",
     "output_type": "stream",
     "text": [
      "Cluster 0: analytics strategy consultant analytical healthcare ibm dooh sql bi time\n",
      "Cluster 1: findmine nlp quantum ml pager deep williams sonoma values wear\n",
      "Cluster 2: scientist statistical language modeling python speech boston recurly quantitative spoken\n",
      "Cluster 3: automation rpa ai integratz chatbot dolby financial 150 time keywords\n",
      "Cluster 4: processing language natural youtube artificial ai ca storage classification distributed\n",
      "Cluster 5: ca scientists publishing papers researchers conferences language natural mining mountain\n",
      "Cluster 6: sales marketing hand big architectures tpu trifacta ml ca organizations\n",
      "Cluster 7: ibm conversational unstructured planet iris pluralsight 170 sources ai structured\n",
      "Cluster 8: aws scala spark contract 60 java python hour apache distributed\n",
      "Cluster 9: surveillance planet lose video security electronic eligible app capture secret\n",
      "Cluster 10: signal internship analog processing algorithm intern stores nypa activities administrative\n",
      "Cluster 11: ml contract java frameworks bose hive hadoop dallas deploying tx\n",
      "Cluster 12: advanced python language aig processing statistical natural crew frameworks balance\n",
      "Cluster 13: clinical computational genetics disease genetic gene biology genomics datasets bioinformatics\n",
      "Cluster 14: consumer sql rtml betterup affirm databases time credit security database\n"
     ]
    }
   ],
   "source": [
    "order_centroids = km.cluster_centers_.argsort()[:, ::-1]\n",
    "terms = feature_names\n",
    "for i in range(len(order_centroids)):\n",
    "    print(\"Cluster %d:\" % i, end='')\n",
    "    for ind in order_centroids[i, :10]:\n",
    "        print(' %s' % terms[ind], end='')\n",
    "    print()"
   ]
  },
  {
   "cell_type": "code",
   "execution_count": 148,
   "metadata": {},
   "outputs": [
    {
     "name": "stdout",
     "output_type": "stream",
     "text": [
      "0 (38,)\n",
      "1 (10,)\n",
      "2 (20,)\n",
      "3 (10,)\n",
      "4 (22,)\n",
      "5 (18,)\n",
      "6 (13,)\n",
      "7 (14,)\n",
      "8 (14,)\n",
      "9 (6,)\n",
      "10 (9,)\n",
      "11 (22,)\n",
      "12 (14,)\n",
      "13 (10,)\n",
      "14 (17,)\n"
     ]
    },
    {
     "data": {
      "text/plain": [
       "'./indeed_searches/machine+learning-2018_11_26-200547'"
      ]
     },
     "execution_count": 148,
     "metadata": {},
     "output_type": "execute_result"
    }
   ],
   "source": [
    "# Print out all posting in that cluster\n",
    "import numpy as np\n",
    "\n",
    "def cluster_index(values, searchval):\n",
    "    return np.where(values == searchval)[0]\n",
    "for i in range(len(order_centroids)):\n",
    "    print(i, cluster_index(km.labels_, i).shape)\n",
    "filename"
   ]
  },
  {
   "cell_type": "code",
   "execution_count": 149,
   "metadata": {},
   "outputs": [
    {
     "data": {
      "text/html": [
       "<div>\n",
       "<style scoped>\n",
       "    .dataframe tbody tr th:only-of-type {\n",
       "        vertical-align: middle;\n",
       "    }\n",
       "\n",
       "    .dataframe tbody tr th {\n",
       "        vertical-align: top;\n",
       "    }\n",
       "\n",
       "    .dataframe thead th {\n",
       "        text-align: right;\n",
       "    }\n",
       "</style>\n",
       "<table border=\"1\" class=\"dataframe\">\n",
       "  <thead>\n",
       "    <tr style=\"text-align: right;\">\n",
       "      <th></th>\n",
       "      <th>company</th>\n",
       "      <th>job_title</th>\n",
       "      <th>url</th>\n",
       "      <th>location</th>\n",
       "    </tr>\n",
       "  </thead>\n",
       "  <tbody>\n",
       "    <tr>\n",
       "      <th>12</th>\n",
       "      <td>WeWork</td>\n",
       "      <td>Manager, Machine Learning</td>\n",
       "      <td>https://www.indeed.com/viewjob?jk=ce624f6bd070ad13</td>\n",
       "      <td>New York, NY 10013 (Tribeca area)</td>\n",
       "    </tr>\n",
       "    <tr>\n",
       "      <th>25</th>\n",
       "      <td>Amenity Analytics</td>\n",
       "      <td>Graduate Training Program</td>\n",
       "      <td>https://www.indeed.com/viewjob?jk=2f8af56dd21494b5</td>\n",
       "      <td>New+York%2C+NY</td>\n",
       "    </tr>\n",
       "    <tr>\n",
       "      <th>29</th>\n",
       "      <td>New York State Office of the Attorney General (OAG...</td>\n",
       "      <td>Medicaid Fraud Control Unit - Research Analyst NYC (Ref# MFC...</td>\n",
       "      <td>https://www.indeed.com/viewjob?jk=f62ca9b2724952d3</td>\n",
       "      <td>New+York%2C+NY</td>\n",
       "    </tr>\n",
       "    <tr>\n",
       "      <th>30</th>\n",
       "      <td>ComplyAdvantage</td>\n",
       "      <td>Customer Success Manager, North America</td>\n",
       "      <td>https://www.indeed.com/viewjob?jk=a30fda40a84fb929</td>\n",
       "      <td>New+York%2C+NY</td>\n",
       "    </tr>\n",
       "    <tr>\n",
       "      <th>32</th>\n",
       "      <td>WeWork</td>\n",
       "      <td>Manager, Machine Learning</td>\n",
       "      <td>https://www.indeed.com/viewjob?jk=ce624f6bd070ad13</td>\n",
       "      <td>New+York%2C+NY</td>\n",
       "    </tr>\n",
       "    <tr>\n",
       "      <th>37</th>\n",
       "      <td>JP Morgan Chase</td>\n",
       "      <td>Asset &amp; Wealth Management – Intelligent Digital Solutions –...</td>\n",
       "      <td>https://www.indeed.com/viewjob?jk=eb657621559137e5</td>\n",
       "      <td>New+York%2C+NY</td>\n",
       "    </tr>\n",
       "    <tr>\n",
       "      <th>44</th>\n",
       "      <td>Vettery</td>\n",
       "      <td>Talent Executive</td>\n",
       "      <td>https://www.indeed.com/viewjob?jk=589ae69563cca553</td>\n",
       "      <td>New+York%2C+NY</td>\n",
       "    </tr>\n",
       "    <tr>\n",
       "      <th>46</th>\n",
       "      <td>JP Morgan Chase</td>\n",
       "      <td>Asset &amp; Wealth Management – Intelligent Digital Solutions –...</td>\n",
       "      <td>https://www.indeed.com/viewjob?jk=1d91f09325df5cce</td>\n",
       "      <td>New+York%2C+NY</td>\n",
       "    </tr>\n",
       "    <tr>\n",
       "      <th>50</th>\n",
       "      <td>SiriusXM</td>\n",
       "      <td>Analyst, Music Metadata</td>\n",
       "      <td>https://www.indeed.com/viewjob?jk=e159229f91095483</td>\n",
       "      <td>New+York%2C+NY</td>\n",
       "    </tr>\n",
       "    <tr>\n",
       "      <th>58</th>\n",
       "      <td>Blackwood Seven</td>\n",
       "      <td>Strategist</td>\n",
       "      <td>https://www.indeed.com/viewjob?jk=598ffac9846f78c6</td>\n",
       "      <td>New+York%2C+NY</td>\n",
       "    </tr>\n",
       "    <tr>\n",
       "      <th>196</th>\n",
       "      <td>Empire Business Group LLC</td>\n",
       "      <td>Recruiter</td>\n",
       "      <td>https://www.indeed.com/viewjob?jk=69b260e5b7c9a58c</td>\n",
       "      <td>Greenwich%2C+CT</td>\n",
       "    </tr>\n",
       "    <tr>\n",
       "      <th>197</th>\n",
       "      <td>Shatzkin Systems, Inc.</td>\n",
       "      <td>Junior Integration Tester</td>\n",
       "      <td>https://www.indeed.com/viewjob?jk=88e297452ce1eb17</td>\n",
       "      <td>Greenwich%2C+CT</td>\n",
       "    </tr>\n",
       "    <tr>\n",
       "      <th>203</th>\n",
       "      <td>Synchrony</td>\n",
       "      <td>VP, Account Management Smart Growth</td>\n",
       "      <td>https://www.indeed.com/viewjob?jk=ca663a7db82e16d7</td>\n",
       "      <td>Greenwich%2C+CT</td>\n",
       "    </tr>\n",
       "    <tr>\n",
       "      <th>205</th>\n",
       "      <td>RiskMatch</td>\n",
       "      <td>Data Integration Analyst</td>\n",
       "      <td>https://www.indeed.com/viewjob?jk=bbe95c7e220783ae</td>\n",
       "      <td>Greenwich%2C+CT</td>\n",
       "    </tr>\n",
       "    <tr>\n",
       "      <th>206</th>\n",
       "      <td>Montefiore Medical Center</td>\n",
       "      <td>DATA SCIENTIST</td>\n",
       "      <td>https://www.indeed.com/viewjob?jk=3cb6aedc72584979</td>\n",
       "      <td>Greenwich%2C+CT</td>\n",
       "    </tr>\n",
       "    <tr>\n",
       "      <th>212</th>\n",
       "      <td>IBM</td>\n",
       "      <td>Data Scientist</td>\n",
       "      <td>https://www.indeed.com/viewjob?jk=9238c42b729c89bd</td>\n",
       "      <td>Greenwich%2C+CT</td>\n",
       "    </tr>\n",
       "    <tr>\n",
       "      <th>215</th>\n",
       "      <td>EarlyConnect</td>\n",
       "      <td>Senior Data analytic Consultant</td>\n",
       "      <td>https://www.indeed.com/viewjob?jk=0f8a4bc4bf5a1d32</td>\n",
       "      <td>Greenwich%2C+CT</td>\n",
       "    </tr>\n",
       "    <tr>\n",
       "      <th>229</th>\n",
       "      <td>IBM</td>\n",
       "      <td>Strategy Consultant - Chief Analytics Office</td>\n",
       "      <td>https://www.indeed.com/viewjob?jk=186f1bb71e3b390d</td>\n",
       "      <td>Greenwich%2C+CT</td>\n",
       "    </tr>\n",
       "    <tr>\n",
       "      <th>231</th>\n",
       "      <td>Nexien Inc.</td>\n",
       "      <td>Sr. Consultant Data Analytics</td>\n",
       "      <td>https://www.indeed.com/viewjob?jk=d09d4a95541a9f6a</td>\n",
       "      <td>Greenwich%2C+CT</td>\n",
       "    </tr>\n",
       "    <tr>\n",
       "      <th>232</th>\n",
       "      <td>BTI Solutions</td>\n",
       "      <td>Consultant Data Analytics</td>\n",
       "      <td>https://www.indeed.com/viewjob?jk=2aba39ece3f43a8b</td>\n",
       "      <td>Greenwich%2C+CT</td>\n",
       "    </tr>\n",
       "    <tr>\n",
       "      <th>233</th>\n",
       "      <td>Top Prospect Group</td>\n",
       "      <td>Data Engineer- Healthcare</td>\n",
       "      <td>https://www.indeed.com/viewjob?jk=bf22b668f5c0a641</td>\n",
       "      <td>Greenwich%2C+CT</td>\n",
       "    </tr>\n",
       "    <tr>\n",
       "      <th>234</th>\n",
       "      <td>New York City DEPT OF DESIGN &amp; CONSTRUCTION</td>\n",
       "      <td>Data Analytics Specialist</td>\n",
       "      <td>https://www.indeed.com/viewjob?jk=c65f3e59240ab8ef</td>\n",
       "      <td>Greenwich%2C+CT</td>\n",
       "    </tr>\n",
       "    <tr>\n",
       "      <th>236</th>\n",
       "      <td>MasterCard</td>\n",
       "      <td>Senior Analyst, Advanced Analytics</td>\n",
       "      <td>https://www.indeed.com/viewjob?jk=a663e3d879a25ea2</td>\n",
       "      <td>Greenwich%2C+CT</td>\n",
       "    </tr>\n",
       "  </tbody>\n",
       "</table>\n",
       "</div>"
      ],
      "text/plain": [
       "                                                           company  \\\n",
       "12           WeWork                                                  \n",
       "25           Amenity Analytics                                       \n",
       "29           New York State Office of the Attorney General (OAG...   \n",
       "30           ComplyAdvantage                                         \n",
       "32           WeWork                                                  \n",
       "37           JP Morgan Chase                                         \n",
       "44           Vettery                                                 \n",
       "46           JP Morgan Chase                                         \n",
       "50           SiriusXM                                                \n",
       "58           Blackwood Seven                                         \n",
       "196          Empire Business Group LLC                               \n",
       "197          Shatzkin Systems, Inc.                                  \n",
       "203          Synchrony                                               \n",
       "205          RiskMatch                                               \n",
       "206          Montefiore Medical Center                               \n",
       "212          IBM                                                     \n",
       "215          EarlyConnect                                            \n",
       "229          IBM                                                     \n",
       "231          Nexien Inc.                                             \n",
       "232          BTI Solutions                                           \n",
       "233          Top Prospect Group                                      \n",
       "234          New York City DEPT OF DESIGN & CONSTRUCTION             \n",
       "236          MasterCard                                              \n",
       "\n",
       "                                                           job_title  \\\n",
       "12   Manager, Machine Learning                                         \n",
       "25   Graduate Training Program                                         \n",
       "29   Medicaid Fraud Control Unit - Research Analyst NYC (Ref# MFC...   \n",
       "30   Customer Success Manager, North America                           \n",
       "32   Manager, Machine Learning                                         \n",
       "37   Asset & Wealth Management – Intelligent Digital Solutions –...    \n",
       "44   Talent Executive                                                  \n",
       "46   Asset & Wealth Management – Intelligent Digital Solutions –...    \n",
       "50   Analyst, Music Metadata                                           \n",
       "58   Strategist                                                        \n",
       "196  Recruiter                                                         \n",
       "197  Junior Integration Tester                                         \n",
       "203  VP, Account Management Smart Growth                               \n",
       "205  Data Integration Analyst                                          \n",
       "206  DATA SCIENTIST                                                    \n",
       "212  Data Scientist                                                    \n",
       "215  Senior Data analytic Consultant                                   \n",
       "229  Strategy Consultant - Chief Analytics Office                      \n",
       "231  Sr. Consultant Data Analytics                                     \n",
       "232  Consultant Data Analytics                                         \n",
       "233  Data Engineer- Healthcare                                         \n",
       "234  Data Analytics Specialist                                         \n",
       "236  Senior Analyst, Advanced Analytics                                \n",
       "\n",
       "                                                    url  \\\n",
       "12   https://www.indeed.com/viewjob?jk=ce624f6bd070ad13   \n",
       "25   https://www.indeed.com/viewjob?jk=2f8af56dd21494b5   \n",
       "29   https://www.indeed.com/viewjob?jk=f62ca9b2724952d3   \n",
       "30   https://www.indeed.com/viewjob?jk=a30fda40a84fb929   \n",
       "32   https://www.indeed.com/viewjob?jk=ce624f6bd070ad13   \n",
       "37   https://www.indeed.com/viewjob?jk=eb657621559137e5   \n",
       "44   https://www.indeed.com/viewjob?jk=589ae69563cca553   \n",
       "46   https://www.indeed.com/viewjob?jk=1d91f09325df5cce   \n",
       "50   https://www.indeed.com/viewjob?jk=e159229f91095483   \n",
       "58   https://www.indeed.com/viewjob?jk=598ffac9846f78c6   \n",
       "196  https://www.indeed.com/viewjob?jk=69b260e5b7c9a58c   \n",
       "197  https://www.indeed.com/viewjob?jk=88e297452ce1eb17   \n",
       "203  https://www.indeed.com/viewjob?jk=ca663a7db82e16d7   \n",
       "205  https://www.indeed.com/viewjob?jk=bbe95c7e220783ae   \n",
       "206  https://www.indeed.com/viewjob?jk=3cb6aedc72584979   \n",
       "212  https://www.indeed.com/viewjob?jk=9238c42b729c89bd   \n",
       "215  https://www.indeed.com/viewjob?jk=0f8a4bc4bf5a1d32   \n",
       "229  https://www.indeed.com/viewjob?jk=186f1bb71e3b390d   \n",
       "231  https://www.indeed.com/viewjob?jk=d09d4a95541a9f6a   \n",
       "232  https://www.indeed.com/viewjob?jk=2aba39ece3f43a8b   \n",
       "233  https://www.indeed.com/viewjob?jk=bf22b668f5c0a641   \n",
       "234  https://www.indeed.com/viewjob?jk=c65f3e59240ab8ef   \n",
       "236  https://www.indeed.com/viewjob?jk=a663e3d879a25ea2   \n",
       "\n",
       "                              location  \n",
       "12   New York, NY 10013 (Tribeca area)  \n",
       "25   New+York%2C+NY                     \n",
       "29   New+York%2C+NY                     \n",
       "30   New+York%2C+NY                     \n",
       "32   New+York%2C+NY                     \n",
       "37   New+York%2C+NY                     \n",
       "44   New+York%2C+NY                     \n",
       "46   New+York%2C+NY                     \n",
       "50   New+York%2C+NY                     \n",
       "58   New+York%2C+NY                     \n",
       "196  Greenwich%2C+CT                    \n",
       "197  Greenwich%2C+CT                    \n",
       "203  Greenwich%2C+CT                    \n",
       "205  Greenwich%2C+CT                    \n",
       "206  Greenwich%2C+CT                    \n",
       "212  Greenwich%2C+CT                    \n",
       "215  Greenwich%2C+CT                    \n",
       "229  Greenwich%2C+CT                    \n",
       "231  Greenwich%2C+CT                    \n",
       "232  Greenwich%2C+CT                    \n",
       "233  Greenwich%2C+CT                    \n",
       "234  Greenwich%2C+CT                    \n",
       "236  Greenwich%2C+CT                    "
      ]
     },
     "execution_count": 149,
     "metadata": {},
     "output_type": "execute_result"
    }
   ],
   "source": [
    "pd.set_option('display.max_colwidth', -1)\n",
    "\n",
    "filtered_data = data.loc[ cluster_index(km.labels_, 0), ['company', 'job_title', 'url', 'location']]\n",
    "filtered_data = filtered_data[filtered_data['location'].str.contains('New|CT')]\n",
    "# filtered_data.to_csv('most_promising_k_10.csv', sep=',', encoding='utf-8')\n",
    "filtered_data\n",
    "\n",
    "# for i in range(len(order_centroids)):\n",
    "#     filtered_data = data.loc[ cluster_index(km.labels_, i), ['company', 'job_title', 'url', 'location']]\n",
    "#     filtered_data['company'] = filtered_data['company'].str.strip()\n",
    "#     filtered_data.to_csv(f'{filename}/cluster_{i}_k_20.csv', sep=',', encoding='utf-8', index=False)\n",
    "\n"
   ]
  },
  {
   "cell_type": "markdown",
   "metadata": {},
   "source": [
    "Next Steps are to sort these words into categories (job, technologies, companies)"
   ]
  }
 ],
 "metadata": {
  "kernelspec": {
   "display_name": "Python 3",
   "language": "python",
   "name": "python3"
  },
  "language_info": {
   "codemirror_mode": {
    "name": "ipython",
    "version": 3
   },
   "file_extension": ".py",
   "mimetype": "text/x-python",
   "name": "python",
   "nbconvert_exporter": "python",
   "pygments_lexer": "ipython3",
   "version": "3.6.4"
  }
 },
 "nbformat": 4,
 "nbformat_minor": 2
}
